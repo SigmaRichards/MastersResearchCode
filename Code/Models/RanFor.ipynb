{
 "cells": [
  {
   "cell_type": "code",
   "execution_count": 1,
   "metadata": {},
   "outputs": [],
   "source": [
    "import numpy as np\n",
    "import matplotlib.pyplot as plt\n",
    "import cv2\n",
    "import xgboost as xgb\n",
    "\n",
    "import sys\n",
    "sys.path.insert(0,\"../Classes\")\n",
    "from ScorerClass import scorer"
   ]
  },
  {
   "cell_type": "code",
   "execution_count": 2,
   "metadata": {},
   "outputs": [],
   "source": [
    "def depth_scale(X):\n",
    "    bsum = np.sum(X,axis=1)\n",
    "    bsum[bsum==0] = 1\n",
    "    out = X/np.moveaxis([bsum]*X.shape[1],(0,1),(1,0))\n",
    "    return out"
   ]
  },
  {
   "cell_type": "code",
   "execution_count": 3,
   "metadata": {},
   "outputs": [],
   "source": [
    "def std_scaler(X,is_d=False):\n",
    "    if is_d:\n",
    "        bsum = np.sum(X,axis=1)\n",
    "        bsum[bsum==0] = 1\n",
    "        out = X/np.moveaxis([bsum]*X.shape[1],(0,1),(1,0))\n",
    "        return out\n",
    "    mu = np.mean(X,axis=0)\n",
    "    sig = np.sqrt(np.var(X,axis=0))\n",
    "    if any(sig == 0):\n",
    "        return X\n",
    "    out = (X-mu)/sig\n",
    "    return out"
   ]
  },
  {
   "cell_type": "code",
   "execution_count": 4,
   "metadata": {},
   "outputs": [],
   "source": [
    "from sklearn.linear_model import LogisticRegression\n",
    "def select_features(Xin,is_d,y,tr,t,p = 0.1):\n",
    "    X = std_scaler(Xin,is_d)\n",
    "    clf = LogisticRegression(max_iter = 1000)\n",
    "    clf.fit(X[tr],y[tr])\n",
    "    \n",
    "    #Sometimes problems?\n",
    "    sdv = np.std(X,axis=0)\n",
    "    sdv[sdv==0] = 1\n",
    "    \n",
    "    importances = clf.coef_/sdv\n",
    "    truth_val = importances>=np.percentile(importances,100-100*p)\n",
    "    truth_val = truth_val[0]\n",
    "    return truth_val\n",
    "\n",
    "def load_and_select(path,is_d,y,tr,t,p=0.1):\n",
    "    X = np.load(path)\n",
    "    fs = select_features(X,is_d,y,tr,t,p)\n",
    "    X2 = X[:,fs]\n",
    "    if is_d:\n",
    "        X2 = depth_scale(X2)\n",
    "    return X2"
   ]
  },
  {
   "cell_type": "code",
   "execution_count": 5,
   "metadata": {},
   "outputs": [],
   "source": [
    "def get_data(autoenc=False,rgb=True,lab=True,depth=True):\n",
    "    Xlist = []\n",
    "    if autoenc:\n",
    "        Xlist.append(load_and_select(\"../../../Data/Sampled_Features/fs01.npy\",False,y,tr,t))\n",
    "    if rgb:\n",
    "        Xlist.append(load_and_select(\"../../../Data/Sampled_Features/fs03.npy\",False,y,tr,t))\n",
    "        Xlist.append(load_and_select(\"../../../Data/Sampled_Features/fs04.npy\",False,y,tr,t))\n",
    "        Xlist.append(load_and_select(\"../../../Data/Sampled_Features/fs05.npy\",False,y,tr,t))\n",
    "    if lab:\n",
    "        Xlist.append(load_and_select(\"../../../Data/Sampled_Features/fs08.npy\",False,y,tr,t))\n",
    "        Xlist.append(load_and_select(\"../../../Data/Sampled_Features/fs09.npy\",False,y,tr,t))\n",
    "        Xlist.append(load_and_select(\"../../../Data/Sampled_Features/fs10.npy\",False,y,tr,t))\n",
    "    if depth:\n",
    "        Xlist.append(load_and_select(\"../../../Data/Sampled_Features/fs00.npy\",True,y,tr,t))#d\n",
    "        Xlist.append(load_and_select(\"../../../Data/Sampled_Features/fs02.npy\",True,y,tr,t))#d\n",
    "        Xlist.append(load_and_select(\"../../../Data/Sampled_Features/fs06.npy\",True,y,tr,t))#d\n",
    "        Xlist.append(load_and_select(\"../../../Data/Sampled_Features/fs07.npy\",True,y,tr,t))#d\n",
    "    \n",
    "    data = np.hstack(Xlist)\n",
    "    return data"
   ]
  },
  {
   "cell_type": "code",
   "execution_count": 6,
   "metadata": {},
   "outputs": [],
   "source": [
    "from sklearn.model_selection import train_test_split\n",
    "seed = 2666\n",
    "\n",
    "y    = np.load(\"../../../Data/Sampled_Features/y.npy\")\n",
    "\n",
    "tr,t = train_test_split([a for a in range(y.shape[0])],random_state=seed)"
   ]
  },
  {
   "cell_type": "code",
   "execution_count": 7,
   "metadata": {},
   "outputs": [],
   "source": [
    "def do_score(pred,y):\n",
    "    scorer_ = scorer()\n",
    "    print(\"Acc:\",scorer_.acc(y,pred))\n",
    "    print(\"Sens:\",scorer_.sens(y,pred))\n",
    "    print(\"Spec:\",scorer_.spec(y,pred))\n",
    "    print(\"VOI:\",scorer_.VOI(y,pred))\n",
    "    print(\"GCE\",scorer_.GCE(y,pred))"
   ]
  },
  {
   "cell_type": "code",
   "execution_count": 8,
   "metadata": {},
   "outputs": [],
   "source": [
    "from joblib import dump\n",
    "from sklearn.ensemble import RandomForestClassifier\n",
    "def do_rf(X,y,tr,t,name):\n",
    "    save_name = \"all_models/rf_\"+name+\".joblib\"\n",
    "    \n",
    "    clf = RandomForestClassifier(n_jobs=12)\n",
    "    clf.fit(X[tr],y[tr])\n",
    "    \n",
    "    dump(clf,save_name)\n",
    "    \n",
    "    pred = clf.predict(X[t])\n",
    "    print(name)\n",
    "    do_score(pred,y[t])"
   ]
  },
  {
   "cell_type": "code",
   "execution_count": 9,
   "metadata": {},
   "outputs": [
    {
     "name": "stderr",
     "output_type": "stream",
     "text": [
      "/home/danielh/.local/lib/python3.8/site-packages/sklearn/linear_model/_logistic.py:763: ConvergenceWarning: lbfgs failed to converge (status=1):\n",
      "STOP: TOTAL NO. of ITERATIONS REACHED LIMIT.\n",
      "\n",
      "Increase the number of iterations (max_iter) or scale the data as shown in:\n",
      "    https://scikit-learn.org/stable/modules/preprocessing.html\n",
      "Please also refer to the documentation for alternative solver options:\n",
      "    https://scikit-learn.org/stable/modules/linear_model.html#logistic-regression\n",
      "  n_iter_i = _check_optimize_result(\n",
      "/home/danielh/.local/lib/python3.8/site-packages/sklearn/linear_model/_logistic.py:763: ConvergenceWarning: lbfgs failed to converge (status=1):\n",
      "STOP: TOTAL NO. of ITERATIONS REACHED LIMIT.\n",
      "\n",
      "Increase the number of iterations (max_iter) or scale the data as shown in:\n",
      "    https://scikit-learn.org/stable/modules/preprocessing.html\n",
      "Please also refer to the documentation for alternative solver options:\n",
      "    https://scikit-learn.org/stable/modules/linear_model.html#logistic-regression\n",
      "  n_iter_i = _check_optimize_result(\n",
      "/home/danielh/.local/lib/python3.8/site-packages/sklearn/linear_model/_logistic.py:763: ConvergenceWarning: lbfgs failed to converge (status=1):\n",
      "STOP: TOTAL NO. of ITERATIONS REACHED LIMIT.\n",
      "\n",
      "Increase the number of iterations (max_iter) or scale the data as shown in:\n",
      "    https://scikit-learn.org/stable/modules/preprocessing.html\n",
      "Please also refer to the documentation for alternative solver options:\n",
      "    https://scikit-learn.org/stable/modules/linear_model.html#logistic-regression\n",
      "  n_iter_i = _check_optimize_result(\n",
      "/home/danielh/.local/lib/python3.8/site-packages/sklearn/linear_model/_logistic.py:763: ConvergenceWarning: lbfgs failed to converge (status=1):\n",
      "STOP: TOTAL NO. of ITERATIONS REACHED LIMIT.\n",
      "\n",
      "Increase the number of iterations (max_iter) or scale the data as shown in:\n",
      "    https://scikit-learn.org/stable/modules/preprocessing.html\n",
      "Please also refer to the documentation for alternative solver options:\n",
      "    https://scikit-learn.org/stable/modules/linear_model.html#logistic-regression\n",
      "  n_iter_i = _check_optimize_result(\n"
     ]
    }
   ],
   "source": [
    "X_rgb = get_data(rgb=True,lab=False,depth=False)\n",
    "X_lab = get_data(rgb=False,lab=True,depth=False)\n",
    "#X_dep = get_data(rgb=False,lab=False,depth=True)[0]\n",
    "#X_ae  = load_and_select(\"../../../Data/Sampled_Features/fs01.npy\",False,y,tr,t)\n",
    "#Xf = np.hstack((X_rgb,X_lab,X_dep))\n",
    "#Xfae = np.hstack((Xf,X_ae))\n",
    "X2 = np.hstack((X_rgb,X_lab))"
   ]
  },
  {
   "cell_type": "code",
   "execution_count": 10,
   "metadata": {},
   "outputs": [
    {
     "name": "stdout",
     "output_type": "stream",
     "text": [
      "COL\n",
      "Acc: 0.8615898734177215\n",
      "Sens: 0.8710148958326596\n",
      "Spec: 0.8513022175469314\n",
      "VOI: 0.8036812335174714\n",
      "GCE 1.0022383644332087\n"
     ]
    }
   ],
   "source": [
    "do_rf(X2,y,tr,t,\"COL\")\n",
    "#do_rf(X_rgb,y,tr,t,\"RGB\")\n",
    "#do_rf(X_lab,y,tr,t,\"LAB\")\n",
    "#do_rf(X_dep,y,tr,t,\"DEP\")\n",
    "#do_rf(X_ae,y,tr,t,\"AE\")\n",
    "#do_rf(Xf,y,tr,t,\"Full\")\n",
    "#do_rf(Xfae,y,tr,t,\"FullAE\")"
   ]
  },
  {
   "cell_type": "code",
   "execution_count": null,
   "metadata": {},
   "outputs": [],
   "source": []
  }
 ],
 "metadata": {
  "kernelspec": {
   "display_name": "Python 3",
   "language": "python",
   "name": "python3"
  },
  "language_info": {
   "codemirror_mode": {
    "name": "ipython",
    "version": 3
   },
   "file_extension": ".py",
   "mimetype": "text/x-python",
   "name": "python",
   "nbconvert_exporter": "python",
   "pygments_lexer": "ipython3",
   "version": "3.8.10"
  }
 },
 "nbformat": 4,
 "nbformat_minor": 4
}

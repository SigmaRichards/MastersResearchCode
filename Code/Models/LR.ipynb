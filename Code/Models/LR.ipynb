{
 "cells": [
  {
   "cell_type": "code",
   "execution_count": 1,
   "metadata": {},
   "outputs": [],
   "source": [
    "import numpy as np\n",
    "import matplotlib.pyplot as plt\n",
    "import cv2\n",
    "\n",
    "import sys\n",
    "sys.path.insert(0,\"../Classes\")\n",
    "from ScorerClass import scorer"
   ]
  },
  {
   "cell_type": "code",
   "execution_count": 2,
   "metadata": {},
   "outputs": [],
   "source": [
    "def depth_scale(X):\n",
    "    bsum = np.sum(X,axis=1)\n",
    "    bsum[bsum==0] = 1\n",
    "    out = X/np.moveaxis([bsum]*X.shape[1],(0,1),(1,0))\n",
    "    return out"
   ]
  },
  {
   "cell_type": "code",
   "execution_count": 3,
   "metadata": {},
   "outputs": [],
   "source": [
    "def std_scaler(X,is_d=False):\n",
    "    if is_d:\n",
    "        bsum = np.sum(X,axis=1)\n",
    "        bsum[bsum==0] = 1\n",
    "        out = X/np.moveaxis([bsum]*X.shape[1],(0,1),(1,0))\n",
    "        return out\n",
    "    mu = np.mean(X,axis=0)\n",
    "    sig = np.sqrt(np.var(X,axis=0))\n",
    "    if any(sig == 0):\n",
    "        return X\n",
    "    out = (X-mu)/sig\n",
    "    return out"
   ]
  },
  {
   "cell_type": "code",
   "execution_count": 4,
   "metadata": {},
   "outputs": [],
   "source": [
    "from sklearn.linear_model import LogisticRegression\n",
    "def select_features(Xin,is_d,y,tr,t,p = 0.1):\n",
    "    X = std_scaler(Xin,is_d)\n",
    "    clf = LogisticRegression(max_iter = 1000)\n",
    "    clf.fit(X[tr],y[tr])\n",
    "    \n",
    "    #Sometimes problems?\n",
    "    sdv = np.std(X,axis=0)\n",
    "    sdv[sdv==0] = 1\n",
    "    \n",
    "    importances = clf.coef_/sdv\n",
    "    truth_val = importances>=np.percentile(importances,100-100*p)\n",
    "    truth_val = truth_val[0]\n",
    "    return truth_val\n",
    "\n",
    "def load_and_select(path,is_d,y,tr,t,p=0.1):\n",
    "    X = np.load(path)\n",
    "    fs = select_features(X,is_d,y,tr,t,p)\n",
    "    X2 = X[:,fs]\n",
    "    if is_d:\n",
    "        X2 = depth_scale(X2)\n",
    "    return X2"
   ]
  },
  {
   "cell_type": "code",
   "execution_count": 5,
   "metadata": {},
   "outputs": [],
   "source": [
    "def get_data(autoenc=False,rgb=True,lab=True,depth=True):\n",
    "    Xlist = []\n",
    "    if autoenc:\n",
    "        Xlist.append(load_and_select(\"../../../Data/Sampled_Features/fs01.npy\",False,y,tr,t))\n",
    "    if rgb:\n",
    "        Xlist.append(load_and_select(\"../../../Data/Sampled_Features/fs03.npy\",False,y,tr,t))\n",
    "        Xlist.append(load_and_select(\"../../../Data/Sampled_Features/fs04.npy\",False,y,tr,t))\n",
    "        Xlist.append(load_and_select(\"../../../Data/Sampled_Features/fs05.npy\",False,y,tr,t))\n",
    "    if lab:\n",
    "        Xlist.append(load_and_select(\"../../../Data/Sampled_Features/fs08.npy\",False,y,tr,t))\n",
    "        Xlist.append(load_and_select(\"../../../Data/Sampled_Features/fs09.npy\",False,y,tr,t))\n",
    "        Xlist.append(load_and_select(\"../../../Data/Sampled_Features/fs10.npy\",False,y,tr,t))\n",
    "    if depth:\n",
    "        Xlist.append(load_and_select(\"../../../Data/Sampled_Features/fs00.npy\",True,y,tr,t))#d\n",
    "        Xlist.append(load_and_select(\"../../../Data/Sampled_Features/fs02.npy\",True,y,tr,t))#d\n",
    "        Xlist.append(load_and_select(\"../../../Data/Sampled_Features/fs06.npy\",True,y,tr,t))#d\n",
    "        Xlist.append(load_and_select(\"../../../Data/Sampled_Features/fs07.npy\",True,y,tr,t))#d\n",
    "    \n",
    "    data = np.hstack(Xlist)\n",
    "    return data"
   ]
  },
  {
   "cell_type": "code",
   "execution_count": 6,
   "metadata": {},
   "outputs": [],
   "source": [
    "from sklearn.model_selection import train_test_split\n",
    "seed = 2666\n",
    "\n",
    "y    = np.load(\"../../../Data/Sampled_Features/y.npy\")\n",
    "\n",
    "tr,t = train_test_split([a for a in range(y.shape[0])],random_state=seed)"
   ]
  },
  {
   "cell_type": "code",
   "execution_count": 10,
   "metadata": {},
   "outputs": [
    {
     "name": "stderr",
     "output_type": "stream",
     "text": [
      "/home/danielh/.local/lib/python3.8/site-packages/sklearn/linear_model/_logistic.py:763: ConvergenceWarning: lbfgs failed to converge (status=1):\n",
      "STOP: TOTAL NO. of ITERATIONS REACHED LIMIT.\n",
      "\n",
      "Increase the number of iterations (max_iter) or scale the data as shown in:\n",
      "    https://scikit-learn.org/stable/modules/preprocessing.html\n",
      "Please also refer to the documentation for alternative solver options:\n",
      "    https://scikit-learn.org/stable/modules/linear_model.html#logistic-regression\n",
      "  n_iter_i = _check_optimize_result(\n",
      "/home/danielh/.local/lib/python3.8/site-packages/sklearn/linear_model/_logistic.py:763: ConvergenceWarning: lbfgs failed to converge (status=1):\n",
      "STOP: TOTAL NO. of ITERATIONS REACHED LIMIT.\n",
      "\n",
      "Increase the number of iterations (max_iter) or scale the data as shown in:\n",
      "    https://scikit-learn.org/stable/modules/preprocessing.html\n",
      "Please also refer to the documentation for alternative solver options:\n",
      "    https://scikit-learn.org/stable/modules/linear_model.html#logistic-regression\n",
      "  n_iter_i = _check_optimize_result(\n",
      "/home/danielh/.local/lib/python3.8/site-packages/sklearn/linear_model/_logistic.py:763: ConvergenceWarning: lbfgs failed to converge (status=1):\n",
      "STOP: TOTAL NO. of ITERATIONS REACHED LIMIT.\n",
      "\n",
      "Increase the number of iterations (max_iter) or scale the data as shown in:\n",
      "    https://scikit-learn.org/stable/modules/preprocessing.html\n",
      "Please also refer to the documentation for alternative solver options:\n",
      "    https://scikit-learn.org/stable/modules/linear_model.html#logistic-regression\n",
      "  n_iter_i = _check_optimize_result(\n",
      "/home/danielh/.local/lib/python3.8/site-packages/sklearn/linear_model/_logistic.py:763: ConvergenceWarning: lbfgs failed to converge (status=1):\n",
      "STOP: TOTAL NO. of ITERATIONS REACHED LIMIT.\n",
      "\n",
      "Increase the number of iterations (max_iter) or scale the data as shown in:\n",
      "    https://scikit-learn.org/stable/modules/preprocessing.html\n",
      "Please also refer to the documentation for alternative solver options:\n",
      "    https://scikit-learn.org/stable/modules/linear_model.html#logistic-regression\n",
      "  n_iter_i = _check_optimize_result(\n"
     ]
    }
   ],
   "source": [
    "X_rgb = get_data(rgb=True,lab=False,depth=False)\n",
    "X_lab = get_data(rgb=False,lab=True,depth=False)\n",
    "#X_dep = get_data(rgb=False,lab=False,depth=True)[0]\n",
    "#X_ae  = load_and_select(\"../../../Data/Sampled_Features/fs01.npy\",False,y,tr,t)\n",
    "#Xf = np.hstack((X_rgb,X_lab,X_dep))\n",
    "X2 = np.hstack((X_rgb,X_lab))"
   ]
  },
  {
   "cell_type": "code",
   "execution_count": 11,
   "metadata": {},
   "outputs": [],
   "source": [
    "def do_score(clf,X,y):\n",
    "    pred = clf.predict(X)\n",
    "    scorer_ = scorer()\n",
    "    print(\"Acc:\",scorer_.acc(y,pred))\n",
    "    print(\"Sens:\",scorer_.sens(y,pred))\n",
    "    print(\"Spec:\",scorer_.spec(y,pred))\n",
    "    print(\"VOI:\",scorer_.VOI(y,pred))\n",
    "    print(\"GCE\",scorer_.GCE(y,pred))"
   ]
  },
  {
   "cell_type": "code",
   "execution_count": 12,
   "metadata": {},
   "outputs": [
    {
     "name": "stdout",
     "output_type": "stream",
     "text": [
      "COL\n",
      "Acc: 0.6531206751054852\n",
      "Sens: 0.7103559347248184\n",
      "Spec: 0.5906469080717014\n",
      "VOI: 1.2830791494693754\n",
      "GCE 1.0002705981135027\n"
     ]
    }
   ],
   "source": [
    "c5 = LogisticRegression(max_iter=10000).fit(X2[tr],y[tr])\n",
    "print(\"COL\")\n",
    "do_score(c5,X2[t],y[t])"
   ]
  },
  {
   "cell_type": "code",
   "execution_count": 16,
   "metadata": {},
   "outputs": [
    {
     "name": "stdout",
     "output_type": "stream",
     "text": [
      "RGB\n",
      "Acc: 0.6567459915611814\n",
      "Sens: 0.7128590555408229\n",
      "Spec: 0.5954971301087947\n",
      "VOI: 1.2787036943083878\n",
      "GCE 1.0002543966571447\n",
      "LAB\n",
      "Acc: 0.6438244725738397\n",
      "Sens: 0.7087259955888155\n",
      "Spec: 0.5729827806527679\n",
      "VOI: 1.292325239310396\n",
      "GCE 1.000083333938032\n",
      "Dep\n",
      "Acc: 0.5218835443037975\n",
      "Sens: 1.0\n",
      "Spec: 7.0600029652012455e-06\n",
      "VOI: 0.6922259229137895\n",
      "GCE 1.000003375503595\n",
      "Full\n",
      "Acc: 0.6587848101265823\n",
      "Sens: 0.7170567956172748\n",
      "Spec: 0.5951794299753606\n",
      "VOI: 1.275419637439503\n",
      "GCE 1.0000664467322997\n",
      "AE\n",
      "Acc: 0.5280168776371308\n",
      "Sens: 0.7923315244458531\n",
      "Spec: 0.23951060059445226\n",
      "VOI: 1.2212749700872343\n",
      "GCE 0.9954321073264536\n",
      "FullAE\n",
      "Acc: 0.6604894514767933\n",
      "Sens: 0.7168821592812744\n",
      "Spec: 0.5989353515528476\n",
      "VOI: 1.2736693584573522\n",
      "GCE 1.0001411315019615\n"
     ]
    }
   ],
   "source": [
    "from sklearn.linear_model import LogisticRegression\n",
    "c1 = LogisticRegression(max_iter=10000).fit(X_rgb[tr],y[tr])\n",
    "print(\"RGB\")\n",
    "do_score(c1,X_rgb[t],y[t])\n",
    "\n",
    "c2 = LogisticRegression(max_iter=10000).fit(X_lab[tr],y[tr])\n",
    "print(\"LAB\")\n",
    "do_score(c2,X_lab[t],y[t])\n",
    "\n",
    "c3 = LogisticRegression(max_iter=10000).fit(X_dep[tr],y[tr])\n",
    "print(\"Dep\")\n",
    "do_score(c3,X_dep[t],y[t])\n",
    "\n",
    "c4 = LogisticRegression(max_iter=10000).fit(Xf[tr],y[tr])\n",
    "print(\"Full\")\n",
    "do_score(c4,Xf[t],y[t])\n",
    "\n",
    "c5 = LogisticRegression(max_iter=10000).fit(X_ae[tr],y[tr])\n",
    "print(\"AE\")\n",
    "do_score(c5,X_ae[t],y[t])\n",
    "\n",
    "Xfae = np.hstack((Xf,X_ae))\n",
    "c6 = LogisticRegression(max_iter=10000).fit(Xfae[tr],y[tr])\n",
    "print(\"FullAE\")\n",
    "do_score(c6,Xfae[t],y[t])"
   ]
  },
  {
   "cell_type": "code",
   "execution_count": null,
   "metadata": {},
   "outputs": [],
   "source": []
  }
 ],
 "metadata": {
  "kernelspec": {
   "display_name": "Python 3",
   "language": "python",
   "name": "python3"
  },
  "language_info": {
   "codemirror_mode": {
    "name": "ipython",
    "version": 3
   },
   "file_extension": ".py",
   "mimetype": "text/x-python",
   "name": "python",
   "nbconvert_exporter": "python",
   "pygments_lexer": "ipython3",
   "version": "3.8.10"
  }
 },
 "nbformat": 4,
 "nbformat_minor": 4
}

{
 "cells": [
  {
   "cell_type": "code",
   "execution_count": 1,
   "metadata": {},
   "outputs": [],
   "source": [
    "import sys\n",
    "sys.path.insert(0,\"../Classes\")\n",
    "from DataClass import DataLoader\n",
    "from GaborKernelClass import GaborFeatures\n",
    "from sklearn.model_selection import train_test_split\n",
    "import numpy as np\n",
    "import cv2\n",
    "from tqdm import tqdm"
   ]
  },
  {
   "cell_type": "code",
   "execution_count": 2,
   "metadata": {},
   "outputs": [],
   "source": [
    "def uq_w_ind(img):\n",
    "    vs,inds = np.unique(img,return_inverse=True)\n",
    "    miss = [a for a in range(256) if a not in vs]\n",
    "    for a in miss:\n",
    "        vs = np.insert(vs,a,a)\n",
    "        inds[inds>a]=inds[inds>a]+1\n",
    "    return vs,inds\n",
    "def interp_img(img,interps):\n",
    "    img_out = np.zeros((img.shape),np.float32)\n",
    "    for a in range(3):\n",
    "        vals,bin_idx = uq_w_ind(img[:,:,a])\n",
    "        img_out[:,:,a] = interps[a][bin_idx].reshape((img.shape[0:2]))\n",
    "    return img_out"
   ]
  },
  {
   "cell_type": "code",
   "execution_count": 3,
   "metadata": {},
   "outputs": [],
   "source": [
    "def depth_scale(X):\n",
    "    bsum = np.sum(X,axis=1)\n",
    "    bsum[bsum==0] = 1\n",
    "    out = X/np.moveaxis([bsum]*X.shape[1],(0,1),(1,0))\n",
    "    return out"
   ]
  },
  {
   "cell_type": "code",
   "execution_count": 4,
   "metadata": {},
   "outputs": [],
   "source": [
    "def do_col_con(gf,inds,img):\n",
    "    shapes = img.shape\n",
    "    nkerns = len(gf.kernels)\n",
    "    \n",
    "    red_ind = inds[inds<nkerns]\n",
    "    gf2 = GaborFeatures()\n",
    "    gf2.kernels = np.array(gf.kernels)[red_ind]\n",
    "    red_feats = np.reshape(gf2.convolve_kernels(img,[\"red\"]),(shapes[0]*shapes[1],-1)).astype(np.float32)\n",
    "    \n",
    "    green_ind = inds[np.logical_and(nkerns<=inds,inds<nkerns*2)]-nkerns\n",
    "    gf2 = GaborFeatures()\n",
    "    gf2.kernels = np.array(gf.kernels)[green_ind]\n",
    "    green_feats = np.reshape(gf2.convolve_kernels(img,[\"green\"]),(shapes[0]*shapes[1],-1)).astype(np.float32)\n",
    "    \n",
    "    blue_ind = inds[np.logical_and(2*nkerns<=inds,inds<nkerns*3)]-2*nkerns\n",
    "    gf2 = GaborFeatures()\n",
    "    gf2.kernels = np.array(gf.kernels)[blue_ind]\n",
    "    blue_feats = np.reshape(gf2.convolve_kernels(img,[\"blue\"]),(shapes[0]*shapes[1],-1)).astype(np.float32)\n",
    "    \n",
    "    out = np.hstack((red_feats,green_feats,blue_feats)).astype(np.float32)\n",
    "    return out"
   ]
  },
  {
   "cell_type": "code",
   "execution_count": 5,
   "metadata": {},
   "outputs": [],
   "source": [
    "def fs06(depth,inds):\n",
    "    shapes = depth.shape\n",
    "    \n",
    "    gf = GaborFeatures()\n",
    "    gf.add_log_kernels(32,3,2)\n",
    "    gf.add_log_kernels(64,3,2)\n",
    "    gf.add_log_kernels(128,3,2)\n",
    "    gf.resize_kernels(0.9)\n",
    "    #No colours so we can index directly\n",
    "    kerns = np.array(gf.kernels)[inds]\n",
    "    gf = GaborFeatures()\n",
    "    gf.kernels = kerns\n",
    "    \n",
    "    feats = gf.convolve_kernels(depth,[\"red\"])\n",
    "    \n",
    "    feats = np.reshape(feats,(shapes[0],shapes[1],-1))\n",
    "    feats = cv2.resize(feats,(4096,4096))\n",
    "    feats = np.reshape(feats,(4096*4096,-1))\n",
    "    \n",
    "    feats = depth_scale(feats)\n",
    "    \n",
    "    return feats\n",
    "\n",
    "def fs07(depth,inds):\n",
    "    shapes = depth.shape\n",
    "    \n",
    "    gf = GaborFeatures()\n",
    "    gf.add_log_kernels(32,8,2)\n",
    "    gf.add_log_kernels(64,8,2)\n",
    "    gf.add_log_kernels(128,8,2)\n",
    "    gf.resize_kernels(0.9)\n",
    "    #No colours so we can index directly\n",
    "    kerns = np.asarray(gf.kernels)[inds]\n",
    "    gf = GaborFeatures()\n",
    "    gf.kernels = kerns\n",
    "    \n",
    "    feats = gf.convolve_kernels(depth,[\"red\"])\n",
    "    \n",
    "    feats = np.reshape(feats,(shapes[0],shapes[1],-1))\n",
    "    feats = cv2.resize(feats,(4096,4096))\n",
    "    feats = np.reshape(feats,(4096*4096,-1))\n",
    "    \n",
    "    feats = depth_scale(feats)\n",
    "    \n",
    "    return feats\n",
    "\n",
    "def fs08(flat_LAB,inds):\n",
    "    freqs = [1]\n",
    "    theta = 2*np.pi*np.arange(0,8)/8\n",
    "    band  = [0.01,0.1,1]\n",
    "    std   = [1]\n",
    "    off   = 2*np.pi*np.arange(0,4)/4\n",
    "    \n",
    "    gf = GaborFeatures()\n",
    "    gf.add_kernels(freqs,theta,band,std,off)\n",
    "    \n",
    "    feats = do_col_con(gf,inds,flat_LAB)\n",
    "    return feats\n",
    "\n",
    "def fs09(flat_LAB,inds):\n",
    "    gf = GaborFeatures()\n",
    "    \n",
    "    gf.add_log_kernels(32,3,2)\n",
    "    gf.add_log_kernels(64,3,2)\n",
    "    gf.add_log_kernels(128,3,2)\n",
    "    \n",
    "    gf.resize_kernels(0.9)\n",
    "    \n",
    "    feats = do_col_con(gf,inds,flat_LAB)\n",
    "    return feats\n",
    "\n",
    "def fs10(flat_LAB,inds):\n",
    "    gf = GaborFeatures()\n",
    "    \n",
    "    gf.add_log_kernels(32,8,2)\n",
    "    gf.add_log_kernels(64,8,2)\n",
    "    gf.add_log_kernels(128,8,2)\n",
    "    \n",
    "    gf.resize_kernels(0.9)\n",
    "    \n",
    "    feats = do_col_con(gf,inds,flat_LAB)\n",
    "    return feats"
   ]
  },
  {
   "cell_type": "code",
   "execution_count": 6,
   "metadata": {},
   "outputs": [],
   "source": [
    "def get_features(flat_LAB,depth,inds):\n",
    "    shapes = flat_LAB.shape\n",
    "    \n",
    "    f6  = fs06(depth,np.array(inds[0]))\n",
    "    f7  = fs07(depth,np.array(inds[1]))\n",
    "    f8  = fs08(flat_LAB,np.array(inds[2]))\n",
    "    f9  = fs09(flat_LAB,np.array(inds[3]))\n",
    "    f10 = fs10(flat_LAB,np.array(inds[4]))\n",
    "    feats = np.hstack((f6,f7,f8,f9,f10))\n",
    "    feats = np.reshape(feats,(shapes[0],shapes[1],-1))\n",
    "    return feats"
   ]
  },
  {
   "cell_type": "code",
   "execution_count": 7,
   "metadata": {},
   "outputs": [],
   "source": [
    "def rgb2lab(flat):\n",
    "    img = cv2.cvtColor(flat/255,cv2.COLOR_RGB2Lab)\n",
    "    if True:\n",
    "        img[:,:,0] = img[:,:,0]*(255/100)\n",
    "        img[:,:,1] = img[:,:,1]+128\n",
    "        img[:,:,2] = img[:,:,2]+128\n",
    "    return img"
   ]
  },
  {
   "cell_type": "code",
   "execution_count": 8,
   "metadata": {},
   "outputs": [],
   "source": [
    "from scipy.interpolate import CubicSpline\n",
    "from skimage.filters import gaussian\n",
    "\n",
    "def make_pred(dataloader,index,inds,interps=None):\n",
    "    flat = dataloader.get_data(\"flat\",[index])[0].astype(np.float32)\n",
    "    if interps is not None:\n",
    "        flat = interp_img(flat,interps)\n",
    "    flat = rgb2lab(flat)\n",
    "    depth = np.moveaxis([dataloader.get_data(\"depth\",[index])[0]],(0,1,2),(2,0,1))\n",
    "    feats = np.reshape(get_features(flat,depth,inds),(4096*4096,-1))\n",
    "    pred = np.reshape(clf.predict(feats),(4096,4096))\n",
    "    morphed = gaussian(pred,sigma=100)>0.5\n",
    "    return morphed"
   ]
  },
  {
   "cell_type": "code",
   "execution_count": 9,
   "metadata": {},
   "outputs": [],
   "source": [
    "def printave(a):\n",
    "    strout = \"Ave performance:\"\n",
    "    for v in a:\n",
    "        strout+=\"\\n    \"+str(v)\n",
    "    print(strout)\n",
    "\n",
    "from tqdm import tqdm\n",
    "from IPython.display import clear_output\n",
    "from ScorerClass import scorer\n",
    "\n",
    "def test_acc(dataloader,inds,interps=None,check_region=False):\n",
    "    scorer_ = scorer()\n",
    "    all_accs = []\n",
    "    ave_acc = [0]\n",
    "    for a in tqdm(range(len(dataloader.classfiles))):\n",
    "        printave(ave_acc)\n",
    "        p = make_pred(dataloader,a,inds,interps=interps)\n",
    "        y = dataloader.get_data(\"class\",[a])[0][:,:,0].astype(bool)\n",
    "        if check_region:\n",
    "            reg = dataloader.get_data(\"region\",[a])[0][:,:,0].astype(bool)\n",
    "            m1 = scorer_.acc(y[reg],p[reg])\n",
    "            m2 = scorer_.sens(y[reg],p[reg])\n",
    "            m3 = scorer_.spec(y[reg],p[reg])\n",
    "            m4 = scorer_.VOI(y[reg],p[reg])\n",
    "            m5 = scorer_.GCE(y[reg],p[reg])\n",
    "            acc = [m1,m2,m3,m4,m5]\n",
    "        else:\n",
    "            m1 = scorer_.acc(y,p)\n",
    "            m2 = scorer_.sens(y,p)\n",
    "            m3 = scorer_.spec(y,p)\n",
    "            m4 = scorer_.VOI(y,p)\n",
    "            m5 = scorer_.GCE(y,p)\n",
    "            acc = [m1,m2,m3,m4,m5]\n",
    "        clear_output(wait=True)\n",
    "        all_accs.append(acc)\n",
    "        ave_acc = np.mean(all_accs,axis=0)\n",
    "    print(\"Ave acc:\",ave_acc)"
   ]
  },
  {
   "cell_type": "code",
   "execution_count": 10,
   "metadata": {},
   "outputs": [],
   "source": [
    "inds = [\n",
    "    [22,25,28],\n",
    "    [67,69],\n",
    "    [194],\n",
    "    [60],\n",
    "    [114]\n",
    "]"
   ]
  },
  {
   "cell_type": "code",
   "execution_count": 11,
   "metadata": {},
   "outputs": [],
   "source": [
    "from joblib import load\n",
    "clf = load(\"The08clf.joblib\")"
   ]
  },
  {
   "cell_type": "code",
   "execution_count": 12,
   "metadata": {},
   "outputs": [],
   "source": [
    "dataloader = DataLoader()\n",
    "dataloader.load_std_folder(\"../../../Data/STD_Folder\")\n",
    "#dataloader.load_std_folder(\"../../../Data/DATA_FROM_EARLIER_PHOTOS/converted\")\n",
    "dataloader.parse_biclass()"
   ]
  },
  {
   "cell_type": "code",
   "execution_count": 13,
   "metadata": {},
   "outputs": [
    {
     "name": "stderr",
     "output_type": "stream",
     "text": [
      "100%|██████████| 79/79 [1:42:28<00:00, 77.83s/it]"
     ]
    },
    {
     "name": "stdout",
     "output_type": "stream",
     "text": [
      "Ave acc: [0.92534264 0.91750314 0.79615842 0.37482566 0.85615412]\n"
     ]
    },
    {
     "name": "stderr",
     "output_type": "stream",
     "text": [
      "\n"
     ]
    }
   ],
   "source": [
    "import warnings\n",
    "warnings.filterwarnings(action='ignore',category=np.VisibleDeprecationWarning)\n",
    "\n",
    "test_acc(dataloader,inds)"
   ]
  },
  {
   "cell_type": "code",
   "execution_count": 14,
   "metadata": {},
   "outputs": [],
   "source": [
    "dataloader = DataLoader()\n",
    "#dataloader.load_std_folder(\"../../../Data/STD_Folder\")\n",
    "dataloader.load_std_folder(\"../../../Data/DATA_FROM_EARLIER_PHOTOS/converted\")\n",
    "dataloader.parse_biclass()"
   ]
  },
  {
   "cell_type": "code",
   "execution_count": 15,
   "metadata": {},
   "outputs": [
    {
     "name": "stderr",
     "output_type": "stream",
     "text": [
      "100%|██████████| 77/77 [1:49:36<00:00, 85.41s/it]"
     ]
    },
    {
     "name": "stdout",
     "output_type": "stream",
     "text": [
      "Ave acc: [0.76077924 0.74420843 0.62444814 0.72303686 0.89060953]\n"
     ]
    },
    {
     "name": "stderr",
     "output_type": "stream",
     "text": [
      "\n"
     ]
    }
   ],
   "source": [
    "import warnings\n",
    "warnings.filterwarnings(action='ignore',category=np.VisibleDeprecationWarning)\n",
    "interps = np.load(\"interps.npy\")\n",
    "test_acc(dataloader,inds,interps=interps)"
   ]
  },
  {
   "cell_type": "code",
   "execution_count": 16,
   "metadata": {},
   "outputs": [],
   "source": [
    "dataloader = DataLoader()\n",
    "dataloader.load_std_folder(\"../../../Data/DataSet2/converted\",get_valid_region=True)"
   ]
  },
  {
   "cell_type": "code",
   "execution_count": 17,
   "metadata": {},
   "outputs": [
    {
     "name": "stderr",
     "output_type": "stream",
     "text": [
      "100%|██████████| 36/36 [48:17<00:00, 80.49s/it]"
     ]
    },
    {
     "name": "stdout",
     "output_type": "stream",
     "text": [
      "Ave acc: [0.7095974  0.72756058 0.73576271 0.64282309 0.70748337]\n"
     ]
    },
    {
     "name": "stderr",
     "output_type": "stream",
     "text": [
      "\n"
     ]
    }
   ],
   "source": [
    "import warnings\n",
    "warnings.filterwarnings(action='ignore',category=np.VisibleDeprecationWarning)\n",
    "interps = np.load(\"interps_newdata.npy\")\n",
    "test_acc(dataloader,inds,interps=interps,check_region=True)"
   ]
  },
  {
   "cell_type": "code",
   "execution_count": null,
   "metadata": {},
   "outputs": [],
   "source": []
  }
 ],
 "metadata": {
  "kernelspec": {
   "display_name": "Python 3",
   "language": "python",
   "name": "python3"
  },
  "language_info": {
   "codemirror_mode": {
    "name": "ipython",
    "version": 3
   },
   "file_extension": ".py",
   "mimetype": "text/x-python",
   "name": "python",
   "nbconvert_exporter": "python",
   "pygments_lexer": "ipython3",
   "version": "3.8.10"
  }
 },
 "nbformat": 4,
 "nbformat_minor": 4
}
